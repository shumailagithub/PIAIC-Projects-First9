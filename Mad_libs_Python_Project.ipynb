{
  "nbformat": 4,
  "nbformat_minor": 0,
  "metadata": {
    "colab": {
      "provenance": [],
      "authorship_tag": "ABX9TyMc06Z9YQwVeC3zvJSj/k7F",
      "include_colab_link": true
    },
    "kernelspec": {
      "name": "python3",
      "display_name": "Python 3"
    },
    "language_info": {
      "name": "python"
    }
  },
  "cells": [
    {
      "cell_type": "markdown",
      "metadata": {
        "id": "view-in-github",
        "colab_type": "text"
      },
      "source": [
        "<a href=\"https://colab.research.google.com/github/shumailagithub/PIAIC-Projects-First9/blob/main/Mad_libs_Python_Project.ipynb\" target=\"_parent\"><img src=\"https://colab.research.google.com/assets/colab-badge.svg\" alt=\"Open In Colab\"/></a>"
      ]
    },
    {
      "cell_type": "markdown",
      "source": [
        "#First Project\n",
        "#Mad libs Python Project"
      ],
      "metadata": {
        "id": "XlnXcIWbHViN"
      }
    },
    {
      "cell_type": "code",
      "source": [
        "#get input from the user, work with f-strings, and see your results printed to the console.\n",
        "\n",
        "name = input(\"What is your Name? \")\n",
        "age = input(\"What is your age?\")\n",
        "print(f\"Hello! {name}, You are {age} years old\")"
      ],
      "metadata": {
        "colab": {
          "base_uri": "https://localhost:8080/"
        },
        "id": "v0rCN7m7HZZT",
        "outputId": "4f7d3515-093b-4219-bfac-65f7d8250c0c",
        "collapsed": true
      },
      "execution_count": null,
      "outputs": [
        {
          "output_type": "stream",
          "name": "stdout",
          "text": [
            "What is your Name? faith\n",
            "What is your age?24\n",
            "Hello! faith, You are 24 years old\n"
          ]
        }
      ]
    }
  ]
}