{
  "nbformat": 4,
  "nbformat_minor": 0,
  "metadata": {
    "colab": {
      "provenance": [],
      "authorship_tag": "ABX9TyPdmEb1cvXcWwPCvBo9XQqe",
      "include_colab_link": true
    },
    "kernelspec": {
      "name": "python3",
      "display_name": "Python 3"
    },
    "language_info": {
      "name": "python"
    }
  },
  "cells": [
    {
      "cell_type": "markdown",
      "metadata": {
        "id": "view-in-github",
        "colab_type": "text"
      },
      "source": [
        "<a href=\"https://colab.research.google.com/github/shumailagithub/PIAIC-Projects-First9/blob/main/Countdown_Timer.ipynb\" target=\"_parent\"><img src=\"https://colab.research.google.com/assets/colab-badge.svg\" alt=\"Open In Colab\"/></a>"
      ]
    },
    {
      "cell_type": "markdown",
      "source": [
        "#Sixth Project\n",
        "#Countdown Timer\n"
      ],
      "metadata": {
        "id": "0qOn-AqAZttQ"
      }
    },
    {
      "cell_type": "code",
      "source": [
        "#Countdown Timer\n",
        "#countdown timer using the time Python module. This is a great beginner project\n",
        "# to get you used to working with while loops in Python.\n",
        "import time\n",
        "\n",
        "def countdown_timer(seconds):\n",
        "  while seconds > 0:\n",
        "    mins, secs = divmod(seconds, 60)   #Calculating mins and secs\n",
        "    time_firmat = '{:02d}:{:02d}'.format(mins, secs)\n",
        "    print(time_firmat, end='\\r')\n",
        "    time.sleep(1)      #Delay\n",
        "    seconds -= 1\n",
        "\n",
        "\n",
        "total_seconds = int(input(\"Enter time in seconds for countdown!\"))\n",
        "countdown_timer(total_seconds)\n",
        "\n",
        "print(\"00:00 \\nTimes Up!\")"
      ],
      "metadata": {
        "colab": {
          "base_uri": "https://localhost:8080/"
        },
        "collapsed": true,
        "id": "RUnt7CW7Zv9s",
        "outputId": "e896e2b0-44a4-4b27-f400-7e4cc143d41d"
      },
      "execution_count": 2,
      "outputs": [
        {
          "output_type": "stream",
          "name": "stdout",
          "text": [
            "Enter time in seconds for countdown!2\n",
            "00:00 \n",
            "Times Up!\n"
          ]
        }
      ]
    }
  ]
}