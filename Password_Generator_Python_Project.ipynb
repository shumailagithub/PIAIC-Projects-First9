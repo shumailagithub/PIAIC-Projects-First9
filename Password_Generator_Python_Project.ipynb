{
  "nbformat": 4,
  "nbformat_minor": 0,
  "metadata": {
    "colab": {
      "provenance": [],
      "authorship_tag": "ABX9TyOzaRrsdTcOaOFMV31y4zMq",
      "include_colab_link": true
    },
    "kernelspec": {
      "name": "python3",
      "display_name": "Python 3"
    },
    "language_info": {
      "name": "python"
    }
  },
  "cells": [
    {
      "cell_type": "markdown",
      "metadata": {
        "id": "view-in-github",
        "colab_type": "text"
      },
      "source": [
        "<a href=\"https://colab.research.google.com/github/shumailagithub/PIAIC-Projects-First9/blob/main/Password_Generator_Python_Project.ipynb\" target=\"_parent\"><img src=\"https://colab.research.google.com/assets/colab-badge.svg\" alt=\"Open In Colab\"/></a>"
      ]
    },
    {
      "cell_type": "markdown",
      "source": [
        "#Seventh Project\n",
        "#Password Generator Python Project"
      ],
      "metadata": {
        "id": "5cCKV2FOPAGQ"
      }
    },
    {
      "cell_type": "code",
      "source": [
        "#Password Generator\n",
        "#random password generator. You will collect data from the user on the number\n",
        "#of passwords and their lengths and output a collection of passwords with\n",
        "#random characters.\n",
        "\n",
        "import random\n",
        "import string\n",
        "\n",
        "def generate_password(lenght):\n",
        "  characters = string.ascii_letters + string.digits + string.punctuation\n",
        "  password = ''.join(random.choice(characters)for _ in range(lenght))\n",
        "  return password\n",
        "\n",
        "lenght = int(input(\"Enter your desired password\"))\n",
        "password = generate_password(lenght)\n",
        "print(\"Enter your desire passwords to generate\", password)"
      ],
      "metadata": {
        "colab": {
          "base_uri": "https://localhost:8080/"
        },
        "collapsed": true,
        "id": "cBGTsoaSPFh_",
        "outputId": "a9ce2d96-e378-4089-c589-724c21f0b76d"
      },
      "execution_count": 1,
      "outputs": [
        {
          "output_type": "stream",
          "name": "stdout",
          "text": [
            "Enter your desired password4\n",
            "Enter your desire passwords to generate GNpJ\n"
          ]
        }
      ]
    }
  ]
}