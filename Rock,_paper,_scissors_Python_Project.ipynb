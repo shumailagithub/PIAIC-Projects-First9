{
  "nbformat": 4,
  "nbformat_minor": 0,
  "metadata": {
    "colab": {
      "provenance": [],
      "authorship_tag": "ABX9TyNGhkB0ljDut40zlu0YkaoT",
      "include_colab_link": true
    },
    "kernelspec": {
      "name": "python3",
      "display_name": "Python 3"
    },
    "language_info": {
      "name": "python"
    }
  },
  "cells": [
    {
      "cell_type": "markdown",
      "metadata": {
        "id": "view-in-github",
        "colab_type": "text"
      },
      "source": [
        "<a href=\"https://colab.research.google.com/github/shumailagithub/PIAIC-Projects-First9/blob/main/Rock%2C_paper%2C_scissors_Python_Project.ipynb\" target=\"_parent\"><img src=\"https://colab.research.google.com/assets/colab-badge.svg\" alt=\"Open In Colab\"/></a>"
      ]
    },
    {
      "cell_type": "markdown",
      "source": [
        "#Fort Project\n",
        "#Rock, paper, scissors Python Project"
      ],
      "metadata": {
        "id": "n11IzcS4JvZ7"
      }
    },
    {
      "cell_type": "code",
      "source": [
        "#Rock, paper, scissors\n",
        "#work with random.choice(), if statements, and getting user input.\n",
        "#This is a great project to help you build on the fundamentals like\n",
        "#conditionals and functions.\n",
        "import random\n",
        "\n",
        "#game choices\n",
        "choices = [\"rock\", \"paper\", \"scissors\"]\n",
        "\n",
        "#Player Choice\n",
        "player_choice = input(\"Enter your choice: rock, paper, scissors\").lower()\n",
        "computer_choice = random.choice(choices)\n",
        "\n",
        "#Winner Decistion\n",
        "if(player_choice == computer_choice):\n",
        "  print(\"It is Tie\")\n",
        "elif(player_choice == \"rock\" and computer_choice == \"scissors\"):\n",
        "  print(f\"Plaer win! {player_choice} beats {computer_choice}. \")\n",
        "\n",
        "elif(player_choice == \"paper\" and computer_choice == \"rock\"):\n",
        "  print(f\"player win! {player_choice} beats {computer_choice}.\")\n",
        "\n",
        "elif(player_choice == \"scissors\" and computer_choice == \"paper\"):\n",
        "  print(f\"player win! {player_choice} beats {computer_choice}\")\n",
        "\n",
        "else:\n",
        "  print(f\"Computer Wins! {computer_choice} beats {player_choice}.\")"
      ],
      "metadata": {
        "colab": {
          "base_uri": "https://localhost:8080/"
        },
        "id": "XWNmPo0VJzGp",
        "outputId": "9aebe159-02a3-48f7-ed7f-2758361f2132"
      },
      "execution_count": null,
      "outputs": [
        {
          "output_type": "stream",
          "name": "stdout",
          "text": [
            "Enter your choice: rock, paper, scissorsrock\n",
            "Plaer win! rock beats scissors. \n"
          ]
        }
      ]
    }
  ]
}