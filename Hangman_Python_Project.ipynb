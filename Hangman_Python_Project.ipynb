{
  "nbformat": 4,
  "nbformat_minor": 0,
  "metadata": {
    "colab": {
      "provenance": [],
      "authorship_tag": "ABX9TyPRa+tnj+EI2H6puL4n0T9a",
      "include_colab_link": true
    },
    "kernelspec": {
      "name": "python3",
      "display_name": "Python 3"
    },
    "language_info": {
      "name": "python"
    }
  },
  "cells": [
    {
      "cell_type": "markdown",
      "metadata": {
        "id": "view-in-github",
        "colab_type": "text"
      },
      "source": [
        "<a href=\"https://colab.research.google.com/github/shumailagithub/PIAIC-Projects-First9/blob/main/Hangman_Python_Project.ipynb\" target=\"_parent\"><img src=\"https://colab.research.google.com/assets/colab-badge.svg\" alt=\"Open In Colab\"/></a>"
      ]
    },
    {
      "cell_type": "markdown",
      "source": [
        "#Fifth Project\n",
        "#Hangman Python Project"
      ],
      "metadata": {
        "id": "_QR_f0YFM_W0"
      }
    },
    {
      "cell_type": "code",
      "source": [
        "\n",
        "import random\n",
        "\n",
        "def choose_word():\n",
        "    words = [\"python\", \"hangman\", \"challenge\", \"programming\", \"computer\", \"algorithm\", \"developer\"]\n",
        "    return random.choice(words)\n",
        "\n",
        "def display_word(word, guessed_letters):\n",
        "    display = \"\"\n",
        "    for letter in word:\n",
        "        if letter in guessed_letters:\n",
        "            display += letter\n",
        "        else:\n",
        "            display += \"_\"\n",
        "    return display\n",
        "\n",
        "def hangman():\n",
        "    word = choose_word()\n",
        "    guessed_letters = []\n",
        "    attempts = 6\n",
        "\n",
        "    print(\"Welcome to Hangman!\")\n",
        "    print(display_word(word, guessed_letters))\n",
        "\n",
        "    while True:\n",
        "        guess = input(\"Guess a letter: \").lower()\n",
        "\n",
        "        if guess in guessed_letters:\n",
        "            print(\"You already guessed that letter!\")\n",
        "            continue\n",
        "\n",
        "        guessed_letters.append(guess)\n",
        "\n",
        "        if guess not in word:\n",
        "            attempts -= 1\n",
        "            print(f\"Wrong guess! You have {attempts} attempts left.\")\n",
        "            if attempts == 0:\n",
        "                print(f\"Game over! The word was '{word}'.\")\n",
        "                break\n",
        "        else:\n",
        "            print(\"Good guess!\")\n",
        "\n",
        "        current_display = display_word(word, guessed_letters)\n",
        "        print(current_display)\n",
        "\n",
        "        if \"_\" not in current_display:\n",
        "            print(\"Congratulations! You've guessed the word!\")\n",
        "            break\n",
        "\n",
        "if __name__ == \"__main__\":\n",
        "    hangman()"
      ],
      "metadata": {
        "colab": {
          "base_uri": "https://localhost:8080/"
        },
        "id": "ci6YG6JZNDz8",
        "outputId": "4b77d26a-651e-415a-9194-6a46a212f3aa"
      },
      "execution_count": null,
      "outputs": [
        {
          "output_type": "stream",
          "name": "stdout",
          "text": [
            "Welcome to Hangman!\n",
            "______\n",
            "Guess a letter: c\n",
            "Wrong guess! You have 5 attempts left.\n",
            "______\n",
            "Guess a letter: p\n",
            "Good guess!\n",
            "p_____\n",
            "Guess a letter: y\n",
            "Good guess!\n",
            "py____\n",
            "Guess a letter: t\n",
            "Good guess!\n",
            "pyt___\n",
            "Guess a letter: h\n",
            "Good guess!\n",
            "pyth__\n",
            "Guess a letter: o\n",
            "Good guess!\n",
            "pytho_\n",
            "Guess a letter: n\n",
            "Good guess!\n",
            "python\n",
            "Congratulations! You've guessed the word!\n"
          ]
        }
      ]
    }
  ]
}