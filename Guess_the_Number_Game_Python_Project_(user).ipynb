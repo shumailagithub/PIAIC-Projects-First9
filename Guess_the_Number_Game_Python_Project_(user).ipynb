{
  "nbformat": 4,
  "nbformat_minor": 0,
  "metadata": {
    "colab": {
      "provenance": [],
      "authorship_tag": "ABX9TyMq+NSGcIFzbGwUNi4brvij",
      "include_colab_link": true
    },
    "kernelspec": {
      "name": "python3",
      "display_name": "Python 3"
    },
    "language_info": {
      "name": "python"
    }
  },
  "cells": [
    {
      "cell_type": "markdown",
      "metadata": {
        "id": "view-in-github",
        "colab_type": "text"
      },
      "source": [
        "<a href=\"https://colab.research.google.com/github/shumailagithub/PIAIC-Projects-First9/blob/main/Guess_the_Number_Game_Python_Project_(user).ipynb\" target=\"_parent\"><img src=\"https://colab.research.google.com/assets/colab-badge.svg\" alt=\"Open In Colab\"/></a>"
      ]
    },
    {
      "cell_type": "code",
      "execution_count": null,
      "metadata": {
        "id": "fDBEL1IVIyx0"
      },
      "outputs": [],
      "source": []
    },
    {
      "cell_type": "markdown",
      "source": [
        "#Third Project\n",
        "#Guess the Number Game Python Project (user)"
      ],
      "metadata": {
        "id": "DcBAKwqCI1eO"
      }
    },
    {
      "cell_type": "code",
      "source": [
        "#Rock, paper, scissors\n",
        "#work with random.choice(), if statements, and getting user input.\n",
        "#This is a great project to help you build on the fundamentals like\n",
        "#conditionals and functions.\n",
        "import random\n",
        "\n",
        "#game choices\n",
        "choices = [\"rock\", \"paper\", \"scissors\"]\n",
        "\n",
        "#Player Choice\n",
        "player_choice = input(\"Enter your choice: rock, paper, scissors\").lower()\n",
        "computer_choice = random.choice(choices)\n",
        "\n",
        "#Winner Decistion\n",
        "if(player_choice == computer_choice):\n",
        "  print(\"It is Tie\")\n",
        "elif(player_choice == \"rock\" and computer_choice == \"scissors\"):\n",
        "  print(f\"Plaer win! {player_choice} beats {computer_choice}. \")\n",
        "\n",
        "elif(player_choice == \"paper\" and computer_choice == \"rock\"):\n",
        "  print(f\"player win! {player_choice} beats {computer_choice}.\")\n",
        "\n",
        "elif(player_choice == \"scissors\" and computer_choice == \"paper\"):\n",
        "  print(f\"player win! {player_choice} beats {computer_choice}\")\n",
        "\n",
        "else:\n",
        "  print(f\"Computer Wins! {computer_choice} beats {player_choice}.\")"
      ],
      "metadata": {
        "colab": {
          "base_uri": "https://localhost:8080/"
        },
        "id": "IyQYOIRYI6-o",
        "outputId": "6e3e4f42-5f1d-4524-a06c-9fc163f6e012"
      },
      "execution_count": null,
      "outputs": [
        {
          "output_type": "stream",
          "name": "stdout",
          "text": [
            "Enter your choice: rock, paper, scissorsrock\n",
            "Computer Wins! paper beats rock.\n"
          ]
        }
      ]
    }
  ]
}